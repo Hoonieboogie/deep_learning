{
 "cells": [
  {
   "cell_type": "markdown",
   "id": "ea92c4cf",
   "metadata": {},
   "source": [
    "# 다차원 tensor (다차원 배열)"
   ]
  },
  {
   "cell_type": "code",
   "execution_count": 1,
   "id": "e06e7464",
   "metadata": {},
   "outputs": [],
   "source": [
    "import numpy as np"
   ]
  },
  {
   "cell_type": "markdown",
   "id": "0d47432d",
   "metadata": {},
   "source": [
    "## 다차원 배열의 계산 복습"
   ]
  },
  {
   "cell_type": "code",
   "execution_count": 6,
   "id": "7cd4ced7",
   "metadata": {},
   "outputs": [
    {
     "name": "stdout",
     "output_type": "stream",
     "text": [
      "[[ 8 10 12]\n",
      " [14 16 18]]\n",
      "[[2 4 6]\n",
      " [5 7 9]]\n",
      "[[ 50  68]\n",
      " [122 167]]\n"
     ]
    }
   ],
   "source": [
    "A = np.array([[1,2,3],\n",
    "             [4,5,6]])\n",
    "B = np.array([[7,8,9],\n",
    "             [10,11,12]])\n",
    "\n",
    "print(A+B) # shape (2,3)\n",
    "\n",
    "vec = np.array([1,2,3]) # 1차원 tensor shape: (1,)\n",
    "print(A + vec) # 차원 안맞으니까 braod casting 해서 맞춰줌\n",
    "\n",
    "print(A.dot(B.T))"
   ]
  }
 ],
 "metadata": {
  "kernelspec": {
   "display_name": "ml_env",
   "language": "python",
   "name": "python3"
  },
  "language_info": {
   "codemirror_mode": {
    "name": "ipython",
    "version": 3
   },
   "file_extension": ".py",
   "mimetype": "text/x-python",
   "name": "python",
   "nbconvert_exporter": "python",
   "pygments_lexer": "ipython3",
   "version": "3.12.11"
  }
 },
 "nbformat": 4,
 "nbformat_minor": 5
}
