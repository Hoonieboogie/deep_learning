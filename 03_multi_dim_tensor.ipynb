{
 "cells": [
  {
   "cell_type": "markdown",
   "id": "ea92c4cf",
   "metadata": {},
   "source": [
    "# 다차원 tensor (다차원 배열)"
   ]
  },
  {
   "cell_type": "code",
   "execution_count": 5,
   "id": "e06e7464",
   "metadata": {},
   "outputs": [],
   "source": [
    "import numpy as np"
   ]
  },
  {
   "cell_type": "markdown",
   "id": "0d47432d",
   "metadata": {},
   "source": [
    "## 다차원 배열의 계산 복습"
   ]
  },
  {
   "cell_type": "code",
   "execution_count": 6,
   "id": "7cd4ced7",
   "metadata": {},
   "outputs": [
    {
     "name": "stdout",
     "output_type": "stream",
     "text": [
      "[[ 8 10 12]\n",
      " [14 16 18]]\n",
      "[[2 4 6]\n",
      " [5 7 9]]\n",
      "[[ 50  68]\n",
      " [122 167]]\n"
     ]
    }
   ],
   "source": [
    "A = np.array([[1,2,3],\n",
    "             [4,5,6]])\n",
    "B = np.array([[7,8,9],\n",
    "             [10,11,12]])\n",
    "\n",
    "print(A+B) # shape (2,3)\n",
    "\n",
    "vec = np.array([1,2,3]) # 1차원 tensor shape: (1,)\n",
    "print(A + vec) # 차원 안맞으니까 braod casting 해서 맞춰줌\n",
    "\n",
    "print(A.dot(B.T))"
   ]
  },
  {
   "cell_type": "markdown",
   "id": "1c0fe7c1",
   "metadata": {},
   "source": [
    "## 다층 퍼셉트론"
   ]
  },
  {
   "cell_type": "code",
   "execution_count": null,
   "id": "4d4c7135",
   "metadata": {},
   "outputs": [
    {
     "name": "stdout",
     "output_type": "stream",
     "text": [
      "[[1.20860903e-01 4.95370745e-02 7.72243106e-01 5.73589162e-02]\n",
      " [2.56686412e-01 2.51704841e-01 1.14950598e-01 3.76658149e-01]\n",
      " [1.10766225e-02 3.22837848e-02 9.39347989e-01 1.72916040e-02]\n",
      " [2.85897310e-03 7.63720749e-01 4.51291154e-02 1.88291163e-01]\n",
      " [2.10830076e-02 2.32778805e-01 7.03011452e-01 4.31267357e-02]\n",
      " [1.78571753e-04 1.47076227e-01 1.99305905e-03 8.50752142e-01]]\n"
     ]
    }
   ],
   "source": [
    "X = np.random.randn(6,10)\n",
    "\n",
    "# 은닉층: 10개의 입력 -> 8개의 뉴런\n",
    "W1 = np.random.randn(10,8)\n",
    "b1 = np.random.randn(1,8)\n",
    "\n",
    "# 출력층: 8개의 입력 -> 4개의 클래스\n",
    "W2 = np.random.randn(8,4)\n",
    "b2 = np.random.randn(1,4)\n",
    "\n",
    "# 은닉층 계산 (선형 계산  + tanh 활성화 함수)\n",
    "z1 = np.dot(X,W1) + b1\n",
    "result1 = np.tanh(z1)\n",
    "\n",
    "# 출력층 계산 (선형 계산 + softmanx 활성화 함수)\n",
    "z2 = np.dot(result1,W2) + b2\n",
    "exp_z = np.exp(z2 - np.max(z2, axis=1, keepdims=True))\n",
    "result2 = exp_z / np.sum(exp_z, axis=1, keepdims=True)\n",
    "\n",
    "print(result2)"
   ]
  }
 ],
 "metadata": {
  "kernelspec": {
   "display_name": "ml_env",
   "language": "python",
   "name": "python3"
  },
  "language_info": {
   "codemirror_mode": {
    "name": "ipython",
    "version": 3
   },
   "file_extension": ".py",
   "mimetype": "text/x-python",
   "name": "python",
   "nbconvert_exporter": "python",
   "pygments_lexer": "ipython3",
   "version": "3.12.11"
  }
 },
 "nbformat": 4,
 "nbformat_minor": 5
}
