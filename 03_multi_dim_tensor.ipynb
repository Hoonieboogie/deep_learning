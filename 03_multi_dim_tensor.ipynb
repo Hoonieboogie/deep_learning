{
 "cells": [
  {
   "cell_type": "markdown",
   "id": "ea92c4cf",
   "metadata": {},
   "source": [
    "# 다차원 tensor (다차원 배열)"
   ]
  },
  {
   "cell_type": "code",
   "execution_count": 2,
   "id": "e06e7464",
   "metadata": {},
   "outputs": [],
   "source": [
    "import numpy as np"
   ]
  },
  {
   "cell_type": "markdown",
   "id": "0d47432d",
   "metadata": {},
   "source": [
    "## 다차원 배열의 계산 복습"
   ]
  },
  {
   "cell_type": "code",
   "execution_count": 3,
   "id": "7cd4ced7",
   "metadata": {},
   "outputs": [
    {
     "name": "stdout",
     "output_type": "stream",
     "text": [
      "[[ 8 10 12]\n",
      " [14 16 18]]\n",
      "[[2 4 6]\n",
      " [5 7 9]]\n",
      "[[ 50  68]\n",
      " [122 167]]\n"
     ]
    }
   ],
   "source": [
    "A = np.array([[1,2,3],\n",
    "             [4,5,6]])\n",
    "B = np.array([[7,8,9],\n",
    "             [10,11,12]])\n",
    "\n",
    "print(A+B) # shape (2,3)\n",
    "\n",
    "vec = np.array([1,2,3]) # 1차원 tensor shape: (1,)\n",
    "print(A + vec) # 차원 안맞으니까 braod casting 해서 맞춰줌\n",
    "\n",
    "print(A.dot(B.T))"
   ]
  },
  {
   "cell_type": "markdown",
   "id": "1c0fe7c1",
   "metadata": {},
   "source": [
    "## 다층 퍼셉트론"
   ]
  },
  {
   "cell_type": "code",
   "execution_count": 4,
   "id": "4d4c7135",
   "metadata": {},
   "outputs": [
    {
     "name": "stdout",
     "output_type": "stream",
     "text": [
      "[[0.05661186 0.04049779 0.58784925 0.31504111]\n",
      " [0.72941995 0.00245274 0.23946962 0.02865769]\n",
      " [0.00356205 0.06207066 0.6563668  0.27800049]\n",
      " [0.0489979  0.10733568 0.6752688  0.16839763]\n",
      " [0.01781374 0.24019569 0.64175887 0.1002317 ]\n",
      " [0.00090139 0.02253457 0.44617469 0.53038934]]\n"
     ]
    }
   ],
   "source": [
    "X = np.random.randn(6,10)\n",
    "\n",
    "# 은닉층: 10개의 입력 -> 8개의 뉴런\n",
    "W1 = np.random.randn(10,8)\n",
    "b1 = np.random.randn(1,8) # 얘 덧셈할 때 broad casting이 일어남\n",
    "\n",
    "# 출력층: 8개의 입력 -> 4개의 클래스\n",
    "W2 = np.random.randn(8,4)\n",
    "b2 = np.random.randn(1,4)\n",
    "\n",
    "# 은닉층 계산 (선형 계산  + tanh 활성화 함수)\n",
    "z1 = np.dot(X,W1) + b1\n",
    "result1 = np.tanh(z1)\n",
    "\n",
    "# 출력층 계산 (선형 계산 + softmanx 활성화 함수)\n",
    "z2 = np.dot(result1,W2) + b2\n",
    "exp_z = np.exp(z2 - np.max(z2, axis=1, keepdims=True))\n",
    "result2 = exp_z / np.sum(exp_z, axis=1, keepdims=True)\n",
    "\n",
    "print(result2)"
   ]
  },
  {
   "cell_type": "markdown",
   "id": "bbd9e313",
   "metadata": {},
   "source": [
    "## 이미지 데이터 예시"
   ]
  },
  {
   "cell_type": "code",
   "execution_count": null,
   "id": "04ef51e3",
   "metadata": {},
   "outputs": [
    {
     "data": {
      "image/png": "[encoded data removed]",
      "text/plain": [
       "<Figure size 640x480 with 3 Axes>"
      ]
     },
     "metadata": {},
     "output_type": "display_data"
    }
   ],
   "source": [
    "import matplotlib.pyplot as plt\n",
    "\n",
    "# 이미지 생성\n",
    "batch_size =5\n",
    "channels = 3 # 컬러이미지 rgb\n",
    "height = 32\n",
    "width = 32 # 픽셀 단위, 해상도\n",
    "\n",
    "# 이미지는 4차원의 tensor 구조를 가짐\n",
    "images = np.random.rand(batch_size, channels, height, width) # 이 shape 형태로 이미지 데이터 만든거\n",
    "bright_images = np.clip(images + 0.2, 0, 1) # 밝기 0.2씩 더하는 것, 근데 1은 안넘게 해줌\n",
    "gray_images = np.mean(images, axis = 1) # 흑백이미지로 변환\n",
    "\n",
    "image_for_display = images[0].transpose(1,2,0) # 시각화를 위해 하나만 뽑는 것 (height, width, channels) 순으로 오게 만들기\n",
    "bright_image_for_display = bright_images[0].transpose(1,2,0)\n",
    "\n",
    "plt.subplot(1,3,1)\n",
    "plt.imshow(image_for_display)\n",
    "plt.axis('off')\n",
    "\n",
    "plt.subplot(1,3,2)\n",
    "plt.imshow(bright_image_for_display)\n",
    "plt.axis('off')\n",
    "\n",
    "plt.subplot(1,3,3)\n",
    "plt.imshow(gray_images[0], cmap='gray') #imshow 기본값이 초록으로 나와서 cmap 설정으로 흑백이미지로 만들기 \n",
    "plt.axis('off')\n",
    "\n",
    "plt.show()"
   ]
  }
 ],
 "metadata": {
  "kernelspec": {
   "display_name": "ml_env",
   "language": "python",
   "name": "python3"
  },
  "language_info": {
   "codemirror_mode": {
    "name": "ipython",
    "version": 3
   },
   "file_extension": ".py",
   "mimetype": "text/x-python",
   "name": "python",
   "nbconvert_exporter": "python",
   "pygments_lexer": "ipython3",
   "version": "3.12.11"
  }
 },
 "nbformat": 4,
 "nbformat_minor": 5
}
