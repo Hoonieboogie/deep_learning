{
 "cells": [
  {
   "cell_type": "markdown",
   "id": "22475da1",
   "metadata": {},
   "source": [
    "# 역전파 (Backpropagation)"
   ]
  },
  {
   "cell_type": "markdown",
   "id": "2549467e",
   "metadata": {},
   "source": [
    "- 기본 수식의 역적파 & 연쇄법칙 적용"
   ]
  },
  {
   "cell_type": "code",
   "execution_count": 5,
   "id": "da5dc885",
   "metadata": {},
   "outputs": [
    {
     "name": "stdout",
     "output_type": "stream",
     "text": [
      "9.0\n",
      "6.0\n"
     ]
    }
   ],
   "source": [
    "import numpy as np\n",
    "\n",
    "def forward(x):\n",
    "    y = x**2\n",
    "    return y\n",
    "\n",
    "def backward(x):\n",
    "    dy_dx = 2*x\n",
    "    return dy_dx\n",
    "\n",
    "x = 3.0\n",
    "print(forward(x))\n",
    "print(backward(x))"
   ]
  },
  {
   "cell_type": "markdown",
   "id": "16a9d8d4",
   "metadata": {},
   "source": [
    "- 다층 신경망에서 연쇄법칙 적용"
   ]
  },
  {
   "cell_type": "code",
   "execution_count": 3,
   "id": "457d1780",
   "metadata": {},
   "outputs": [
    {
     "name": "stdout",
     "output_type": "stream",
     "text": [
      "18.0\n",
      "12.0\n"
     ]
    }
   ],
   "source": [
    "import numpy as numpy\n",
    "\n",
    "def forward(x):\n",
    "    y = x**2\n",
    "    z = 2*y\n",
    "    return z\n",
    "\n",
    "def backward(x):\n",
    "    dy_dx = 2*x\n",
    "    dz_dy = 2\n",
    "    dz_dx = dz_dy * dy_dx\n",
    "    return dz_dx\n",
    "\n",
    "x = 3.0\n",
    "print(forward(x))\n",
    "print(backward(x))"
   ]
  },
  {
   "cell_type": "markdown",
   "id": "8fa84e3b",
   "metadata": {},
   "source": [
    "### 신경망에서의 활용"
   ]
  },
  {
   "cell_type": "markdown",
   "id": "e2fd3e4d",
   "metadata": {},
   "source": [
    "- 단순 신경망 학습"
   ]
  },
  {
   "cell_type": "code",
   "execution_count": 12,
   "id": "a447e9b1",
   "metadata": {},
   "outputs": [],
   "source": [
    "def sigmoid(x):\n",
    "    return 1 / (1 + np.exp(-x))\n",
    "\n",
    "def sigmoid_d(x):\n",
    "    return sigmoid(x)*(1- sigmoid(x))"
   ]
  },
  {
   "cell_type": "code",
   "execution_count": 13,
   "id": "8dc29bef",
   "metadata": {},
   "outputs": [],
   "source": [
    "X = np.array([0.5, 0.8]) # shape (2,)\n",
    "y = np.array([1])\n",
    "\n",
    "W = np.array([0.2, 0.4]) # shape (2,)"
   ]
  },
  {
   "cell_type": "code",
   "execution_count": 14,
   "id": "971462be",
   "metadata": {},
   "outputs": [
    {
     "name": "stdout",
     "output_type": "stream",
     "text": [
      "[0.22846489 0.42846489]\n"
     ]
    }
   ],
   "source": [
    "# 순전파\n",
    "z = np.dot(X,W) # 두 개의 1d array 곱하는 거라서 가능\n",
    "r = sigmoid(z)\n",
    "\n",
    "# 오차 계산\n",
    "loss = 0.5 * ((y-r) ** 2)\n",
    "\n",
    "# 역전파 (기울기 계산)\n",
    "delta = (r-y) * sigmoid_d(z)\n",
    "grad_w = delta * x\n",
    "\n",
    "# 가중치 계산\n",
    "W -= 0.1 * grad_w # 0.1 == learning rate\n",
    "\n",
    "print(W)"
   ]
  },
  {
   "cell_type": "markdown",
   "id": "bdf9a797",
   "metadata": {},
   "source": [
    "- 은닉층 추가"
   ]
  },
  {
   "cell_type": "code",
   "execution_count": null,
   "id": "0788798d",
   "metadata": {},
   "outputs": [],
   "source": [
    "def relu(x):\n",
    "    return np.maximum(0,x)\n",
    "\n",
    "def relu_d(x):\n",
    "    return np.where(x>0, 1, 0)"
   ]
  },
  {
   "cell_type": "code",
   "execution_count": 16,
   "id": "a93e121a",
   "metadata": {},
   "outputs": [],
   "source": [
    "X = np.array([0.5, 0.8]) # shape (2,)\n",
    "y = np.array([1]) # shape (1,)\n",
    "\n",
    "W1 = np.array([[0.2 ,0.4], [0.1, 0.3]]) # shape (2,2)\n",
    "b1 = np.array([0.1, 0.2]) # shape (2, )\n",
    "W2 = np.array([[0.5],[0.6]]) # shape (2, 1)\n",
    "b2 = np.array([0.3]) # shape (1, )"
   ]
  },
  {
   "cell_type": "code",
   "execution_count": null,
   "id": "800f5c1e",
   "metadata": {},
   "outputs": [
    {
     "name": "stdout",
     "output_type": "stream",
     "text": [
      "[[0.5004928]\n",
      " [0.6011264]]\n",
      "[[0.20044   0.400528 ]\n",
      " [0.100704  0.3008448]]\n"
     ]
    }
   ],
   "source": [
    "# 순전파\n",
    "z1 = np.dot(X,W1) + b1\n",
    "r1 = relu(z1)\n",
    "\n",
    "z2 = np.dot(r1, W2) + b2\n",
    "r2 = relu(z2)\n",
    "\n",
    "# 손실 계산 -> 역전파 (기울기 계산)\n",
    "delta2 = (r2-y) * relu_d(z2)\n",
    "grad_W2 = np.outer(r1, delta2) #np.outer() -> 외적 (outer product)\n",
    "\n",
    "delta1 = np.dot(W2, delta2) * relu_d(z1)\n",
    "grad_W1 = np.outer(X, delta1)\n",
    "\n",
    "# 가중치 갱신\n",
    "learning_rate = 0.01\n",
    "W2 -= learning_rate * grad_W2\n",
    "W1 -= learning_rate * grad_W1\n",
    "\n",
    "print(W2)\n",
    "print(W1)"
   ]
  },
  {
   "cell_type": "markdown",
   "id": "cec07c3e",
   "metadata": {},
   "source": [
    "### 수치미분과 역전파"
   ]
  },
  {
   "cell_type": "code",
   "execution_count": null,
   "id": "0d89b99f",
   "metadata": {},
   "outputs": [
    {
     "name": "stdout",
     "output_type": "stream",
     "text": [
      "6.000000000039306\n",
      "6.0\n"
     ]
    }
   ],
   "source": [
    "def f(x):\n",
    "    return x**2\n",
    "\n",
    "\n",
    "def num_d_gradient(f,x):\n",
    "    h=1e-5\n",
    "    return (f(x+h) - f(x-h)) / (2*h)\n",
    "\n",
    "\n",
    "def backward_gradient(x):\n",
    "    return 2*x\n",
    "\n",
    "\n",
    "\n",
    "print(num_d_gradient(f, 3.0)) # 수치미분\n",
    "print(backward_gradient(3.0))"
   ]
  },
  {
   "cell_type": "markdown",
   "id": "2625819b",
   "metadata": {},
   "source": [
    "#### 숫자 맞추기 AI"
   ]
  },
  {
   "cell_type": "code",
   "execution_count": null,
   "id": "70ba58f3",
   "metadata": {},
   "outputs": [
    {
     "name": "stdout",
     "output_type": "stream",
     "text": [
      "Epoch 100) Predict: 41.99889289228272, Loss: 7.565972207842992e-07\n",
      "Epoch 200) Predict: 41.99999997059366, Loss: 5.337854581296885e-16\n",
      "Epoch 300) Predict: 41.99999999999922, Loss: 3.7572498282590527e-25\n",
      "Epoch 400) Predict: 41.99999999999997, Loss: 4.0389678347315804e-28\n",
      "Epoch 500) Predict: 41.99999999999997, Loss: 4.0389678347315804e-28\n",
      "\n",
      "Final guess: 41.99999999999997\n"
     ]
    }
   ],
   "source": [
    "target_number = 42 \n",
    "\n",
    "guess = np.random.randn() # return single floating-point number\n",
    "\n",
    "learning_rate = 0.1\n",
    "\n",
    "epochs = 500\n",
    "\n",
    "for i in range(epochs):\n",
    "    # 오차 계산\n",
    "    loss = 0.5 * ((target_number - guess) ** 2)\n",
    "    \n",
    "    # 역전파 (기울기 계산)\n",
    "    delta = (guess - target_number)  # 원래 loss function == (1/2) * (target - guess)^2 =>{미분하면} (guess - target) == 기울기\n",
    "    \n",
    "    # 업데이트 (guess 업데이트, 원래는 가중치 업데이트 하는 것이 맞음)\n",
    "    guess -= learning_rate * delta # 새 guess = 원래 guess - learning_rate * 바로 위에 구한 기울기 delta\n",
    "    \n",
    "    # epoch 100마다 예측값과 손실 출력\n",
    "    if (i+1) % 100 == 0:\n",
    "        print(f\"Epoch {i+1}) Predict: {guess}, Loss: {loss}\")\n",
    "    \n",
    "    \n",
    "# 최종 예측값 guess 출력\n",
    "print(f\"\\nFinal guess:\", guess)"
   ]
  }
 ],
 "metadata": {
  "kernelspec": {
   "display_name": "torch_env",
   "language": "python",
   "name": "python3"
  },
  "language_info": {
   "codemirror_mode": {
    "name": "ipython",
    "version": 3
   },
   "file_extension": ".py",
   "mimetype": "text/x-python",
   "name": "python",
   "nbconvert_exporter": "python",
   "pygments_lexer": "ipython3",
   "version": "3.12.11"
  }
 },
 "nbformat": 4,
 "nbformat_minor": 5
}
