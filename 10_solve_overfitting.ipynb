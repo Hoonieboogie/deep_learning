{
 "cells": [
  {
   "cell_type": "markdown",
   "id": "169205c1",
   "metadata": {},
   "source": [
    "# 과적합 해결"
   ]
  },
  {
   "cell_type": "code",
   "execution_count": 1,
   "id": "9080dfb6",
   "metadata": {},
   "outputs": [],
   "source": [
    "import torch\n",
    "import torch.nn as nn\n",
    "import torch.optim as optim\n",
    "from torch.utils.data import DataLoader, random_split\n",
    "import torchvision.transforms as transforms\n",
    "import torchvision.datasets as datasets"
   ]
  },
  {
   "cell_type": "markdown",
   "id": "7704b571",
   "metadata": {},
   "source": [
    "### 배치 정규화 적용"
   ]
  },
  {
   "cell_type": "code",
   "execution_count": 2,
   "id": "d754374f",
   "metadata": {},
   "outputs": [],
   "source": [
    "# 데이터셋 로드\n",
    "transform = transforms.Compose([transforms.ToTensor(), transforms.Normalize((0.5,), (0.5,))])\n",
    "dataset = datasets.MNIST(root='./data', train=True, transform=transform, download=True)"
   ]
  },
  {
   "cell_type": "code",
   "execution_count": 3,
   "id": "6a6a5aa2",
   "metadata": {},
   "outputs": [],
   "source": [
    "train_size = int(0.8 * len(dataset))\n",
    "val_size = len(dataset) - train_size\n",
    "\n",
    "train_data, val_data = random_split(dataset, [train_size, val_size])\n",
    "train_loader = DataLoader(train_data, batch_size=64, shuffle=True)\n",
    "val_loader = DataLoader(val_data, batch_size=64, shuffle=False)"
   ]
  },
  {
   "cell_type": "code",
   "execution_count": 4,
   "id": "3409e842",
   "metadata": {},
   "outputs": [],
   "source": [
    "class SimpleNN(nn.Module):\n",
    "    def __init__(self, use_bn=False):\n",
    "        super(SimpleNN, self).__init__()\n",
    "        self.fc1 = nn.Linear(28 * 28, 128)\n",
    "        self.bn1 = nn.BatchNorm1d(128) if use_bn else nn.Identity()\n",
    "        self.fc2 = nn.Linear(128, 64)\n",
    "        self.bn2 = nn.BatchNorm1d(64) if use_bn else nn.Identity()\n",
    "        self.fc3 = nn.Linear(64, 10)\n",
    "\n",
    "    def forward(self, x):\n",
    "        x = x.view(x.size(0), -1)   # (배치 크기, h, w) -> (배치 크기, feature)\n",
    "        x = torch.relu(self.bn1(self.fc1(x)))\n",
    "        x = torch.relu(self.bn2(self.fc2(x)))\n",
    "        x = self.fc3(x)\n",
    "        return x"
   ]
  },
  {
   "cell_type": "code",
   "execution_count": 5,
   "id": "a8b971a0",
   "metadata": {},
   "outputs": [],
   "source": [
    "def train(model, train_loader, val_loader, epochs=5):\n",
    "    criterion = nn.CrossEntropyLoss()\n",
    "    optimizer = optim.Adam(model.parameters(), lr=0.001)\n",
    "\n",
    "    for epoch in range(epochs):\n",
    "        model.train()\n",
    "        for images, labels in train_loader:\n",
    "            images = images.view(images.size(0), -1)\n",
    "            optimizer.zero_grad()\n",
    "            outputs = model(images)\n",
    "            loss = criterion(outputs, labels)\n",
    "            loss.backward()\n",
    "            optimizer.step()\n",
    "\n",
    "        model.eval()\n",
    "        val_loss = 0\n",
    "        correct = 0\n",
    "        with torch.no_grad():\n",
    "            for images, labels in val_loader:\n",
    "                images = images.view(images.size(0), -1)\n",
    "                outputs = model(images)\n",
    "                val_loss += criterion(outputs, labels).item()\n",
    "                preds = outputs.argmax(dim=1)\n",
    "                correct += (preds == labels).sum().item()\n",
    "\n",
    "        print(f'Epoch {epoch + 1} | Val Loss: {val_loss / len(val_loader):.4f}, Accuracy: {correct / len(val_data):.4f}')"
   ]
  },
  {
   "cell_type": "code",
   "execution_count": 6,
   "id": "cfcd2555",
   "metadata": {},
   "outputs": [
    {
     "name": "stdout",
     "output_type": "stream",
     "text": [
      "배치 정규화 적용 안함\n",
      "Epoch 1 | Val Loss: 0.2576, Accuracy: 0.9256\n",
      "Epoch 2 | Val Loss: 0.1915, Accuracy: 0.9422\n",
      "Epoch 3 | Val Loss: 0.1463, Accuracy: 0.9569\n",
      "Epoch 4 | Val Loss: 0.1438, Accuracy: 0.9566\n",
      "Epoch 5 | Val Loss: 0.1338, Accuracy: 0.9597\n",
      "\n",
      "배치 정규화 적용\n",
      "Epoch 1 | Val Loss: 0.1267, Accuracy: 0.9611\n",
      "Epoch 2 | Val Loss: 0.0939, Accuracy: 0.9706\n",
      "Epoch 3 | Val Loss: 0.0894, Accuracy: 0.9712\n",
      "Epoch 4 | Val Loss: 0.0861, Accuracy: 0.9728\n",
      "Epoch 5 | Val Loss: 0.0860, Accuracy: 0.9738\n"
     ]
    }
   ],
   "source": [
    "print(\"배치 정규화 적용 안함\")\n",
    "model_without_bn = SimpleNN(use_bn=False)\n",
    "train(model_without_bn, train_loader, val_loader)\n",
    "\n",
    "print()\n",
    "print(\"배치 정규화 적용\")\n",
    "model_with_bn = SimpleNN(use_bn=True)\n",
    "train(model_with_bn, train_loader, val_loader)"
   ]
  },
  {
   "cell_type": "markdown",
   "id": "270cecc7",
   "metadata": {},
   "source": []
  },
  {
   "cell_type": "code",
   "execution_count": 7,
   "id": "2a44d1ff",
   "metadata": {},
   "outputs": [
    {
     "name": "stdout",
     "output_type": "stream",
     "text": [
      "batch size: 16\n",
      "Epoch 1 | Val Loss: 0.1412, Accuracy: 0.9577\n",
      "Epoch 2 | Val Loss: 0.1022, Accuracy: 0.9674\n",
      "Epoch 3 | Val Loss: 0.0901, Accuracy: 0.9709\n",
      "Epoch 4 | Val Loss: 0.0814, Accuracy: 0.9749\n",
      "Epoch 5 | Val Loss: 0.0846, Accuracy: 0.9738\n",
      "batch size: 32\n",
      "Epoch 1 | Val Loss: 0.1335, Accuracy: 0.9608\n",
      "Epoch 2 | Val Loss: 0.0986, Accuracy: 0.9703\n",
      "Epoch 3 | Val Loss: 0.0885, Accuracy: 0.9731\n",
      "Epoch 4 | Val Loss: 0.0854, Accuracy: 0.9748\n",
      "Epoch 5 | Val Loss: 0.0821, Accuracy: 0.9748\n",
      "batch size: 128\n",
      "Epoch 1 | Val Loss: 0.1581, Accuracy: 0.9539\n",
      "Epoch 2 | Val Loss: 0.1109, Accuracy: 0.9665\n",
      "Epoch 3 | Val Loss: 0.0928, Accuracy: 0.9706\n",
      "Epoch 4 | Val Loss: 0.0991, Accuracy: 0.9700\n",
      "Epoch 5 | Val Loss: 0.0891, Accuracy: 0.9725\n"
     ]
    }
   ],
   "source": [
    "for batch_size in [16, 32, 128]:\n",
    "    print(f\"batch size: {batch_size}\")\n",
    "    train_loader = DataLoader(train_data, batch_size=batch_size, shuffle=True)\n",
    "    val_loader = DataLoader(val_data, batch_size=batch_size, shuffle=False)\n",
    "    model = SimpleNN(use_bn=True)\n",
    "    train(model, train_loader, val_loader)"
   ]
  },
  {
   "cell_type": "markdown",
   "id": "3d37c73f",
   "metadata": {},
   "source": [
    "### 드롭아웃 적용"
   ]
  },
  {
   "cell_type": "code",
   "execution_count": 8,
   "id": "01b5d57b",
   "metadata": {},
   "outputs": [],
   "source": [
    "class DropoutNN(nn.Module):\n",
    "    def __init__(self, dropout_rate):\n",
    "        super(DropoutNN, self).__init__()\n",
    "        self.fc1 = nn.Linear(28 * 28, 128)\n",
    "        self.dropout1 = nn.Dropout(dropout_rate)\n",
    "        self.fc2 = nn.Linear(128, 64)\n",
    "        self.dropout2 = nn.Dropout(dropout_rate)\n",
    "        self.fc3 = nn.Linear(64, 10)\n",
    "\n",
    "    def forward(self, x):\n",
    "        x = x.view(x.size(0), -1)\n",
    "        x = torch.relu(self.dropout1(self.fc1(x)))\n",
    "        x = torch.relu(self.dropout2(self.fc2(x)))\n",
    "        x = self.fc3(x)\n",
    "        return x"
   ]
  },
  {
   "cell_type": "code",
   "execution_count": 9,
   "id": "73785a0b",
   "metadata": {},
   "outputs": [
    {
     "name": "stdout",
     "output_type": "stream",
     "text": [
      "Dropout Rate: 0.2\n",
      "Epoch 1 | Val Loss: 0.2622, Accuracy: 0.9229\n",
      "Epoch 2 | Val Loss: 0.1888, Accuracy: 0.9452\n",
      "Epoch 3 | Val Loss: 0.1555, Accuracy: 0.9527\n",
      "Epoch 4 | Val Loss: 0.1557, Accuracy: 0.9537\n",
      "Epoch 5 | Val Loss: 0.1486, Accuracy: 0.9544\n",
      "Dropout Rate: 0.5\n",
      "Epoch 1 | Val Loss: 0.3342, Accuracy: 0.8975\n",
      "Epoch 2 | Val Loss: 0.2922, Accuracy: 0.9141\n",
      "Epoch 3 | Val Loss: 0.2676, Accuracy: 0.9207\n",
      "Epoch 4 | Val Loss: 0.2440, Accuracy: 0.9265\n",
      "Epoch 5 | Val Loss: 0.2245, Accuracy: 0.9323\n",
      "Dropout Rate: 0.8\n",
      "Epoch 1 | Val Loss: 1.5170, Accuracy: 0.6109\n",
      "Epoch 2 | Val Loss: 1.4220, Accuracy: 0.6243\n",
      "Epoch 3 | Val Loss: 1.2859, Accuracy: 0.6435\n",
      "Epoch 4 | Val Loss: 1.2478, Accuracy: 0.6375\n",
      "Epoch 5 | Val Loss: 1.2352, Accuracy: 0.6029\n"
     ]
    }
   ],
   "source": [
    "train_loader = DataLoader(train_data, batch_size=64, shuffle=True)\n",
    "val_loader = DataLoader(val_data, batch_size=64, shuffle=False)\n",
    "\n",
    "for rate in [0.2, 0.5, 0.8]:\n",
    "    print(f\"Dropout Rate: {rate}\")\n",
    "    model = DropoutNN(dropout_rate=rate)\n",
    "    train(model, train_loader, val_loader)"
   ]
  },
  {
   "cell_type": "code",
   "execution_count": 10,
   "id": "93c3a035",
   "metadata": {},
   "outputs": [],
   "source": [
    "model = DropoutNN(dropout_rate=0.2)"
   ]
  },
  {
   "cell_type": "code",
   "execution_count": 11,
   "id": "3db83126",
   "metadata": {},
   "outputs": [
    {
     "name": "stdout",
     "output_type": "stream",
     "text": [
      "True\n"
     ]
    }
   ],
   "source": [
    "model.eval()\n",
    "with torch.no_grad():\n",
    "    images, _ = next(iter(val_loader))\n",
    "    images = images.view(images.size(0), -1)\n",
    "\n",
    "    out1 = model(images)\n",
    "    out2 = model(images)\n",
    "\n",
    "    print(torch.allclose(out1, out2))"
   ]
  },
  {
   "cell_type": "code",
   "execution_count": 12,
   "id": "f5deab84",
   "metadata": {},
   "outputs": [
    {
     "name": "stdout",
     "output_type": "stream",
     "text": [
      "False\n"
     ]
    }
   ],
   "source": [
    "model.train()\n",
    "\n",
    "out1 = model(images)\n",
    "out2 = model(images)\n",
    "\n",
    "print(torch.allclose(out1, out2))"
   ]
  },
  {
   "cell_type": "markdown",
   "id": "d347f05e",
   "metadata": {},
   "source": [
    "### Learning Rate Scheduler 적용"
   ]
  },
  {
   "cell_type": "code",
   "execution_count": 13,
   "id": "6aa9d0c4",
   "metadata": {},
   "outputs": [],
   "source": [
    "class RealSimpleNN(nn.Module):\n",
    "    def __init__(self):\n",
    "        super(RealSimpleNN, self).__init__()\n",
    "        self.fc1 = nn.Linear(28 * 28, 128)\n",
    "        self.fc2 = nn.Linear(128, 64)\n",
    "        self.fc3 = nn.Linear(64, 10)\n",
    "\n",
    "    def forward(self, x):\n",
    "        x = x.view(x.size(0), -1)\n",
    "        x = torch.relu(self.fc1(x))\n",
    "        x = torch.relu(self.fc2(x))\n",
    "        x = self.fc3(x)\n",
    "        return x"
   ]
  },
  {
   "cell_type": "code",
   "execution_count": 14,
   "id": "b7491936",
   "metadata": {},
   "outputs": [],
   "source": [
    "def train_lr(model, train_loader, val_loader, optimizer, scheduler, epochs=10):\n",
    "    criterion = nn.CrossEntropyLoss()\n",
    "\n",
    "    for epoch in range(epochs):\n",
    "        model.train()\n",
    "        for images, labels in train_loader:\n",
    "            images = images.view(images.size(0), -1)\n",
    "            optimizer.zero_grad()\n",
    "            outputs = model(images)\n",
    "            loss = criterion(outputs, labels)\n",
    "            loss.backward()\n",
    "            optimizer.step()\n",
    "\n",
    "        model.eval()\n",
    "        val_loss = 0\n",
    "        correct = 0\n",
    "        with torch.no_grad():\n",
    "            for images, labels in val_loader:\n",
    "                images = images.view(images.size(0), -1)\n",
    "                outputs = model(images)\n",
    "                val_loss += criterion(outputs, labels).item()\n",
    "                preds = outputs.argmax(dim=1)\n",
    "                correct += (preds == labels).sum().item()\n",
    "\n",
    "        scheduler.step()\n",
    "        print(f'Epoch {epoch + 1} | Val Loss: {val_loss / len(val_loader):.4f}, Accuracy: {correct / len(val_data):.4f}')"
   ]
  },
  {
   "cell_type": "code",
   "execution_count": 15,
   "id": "2dcb2b41",
   "metadata": {},
   "outputs": [
    {
     "name": "stdout",
     "output_type": "stream",
     "text": [
      "Epoch 1 | Val Loss: 0.3065, Accuracy: 0.9083\n",
      "Epoch 2 | Val Loss: 0.2779, Accuracy: 0.9164\n",
      "Epoch 3 | Val Loss: 0.2470, Accuracy: 0.9297\n",
      "Epoch 4 | Val Loss: 0.1894, Accuracy: 0.9459\n",
      "Epoch 5 | Val Loss: 0.1948, Accuracy: 0.9423\n",
      "Epoch 6 | Val Loss: 0.1737, Accuracy: 0.9493\n",
      "Epoch 7 | Val Loss: 0.1702, Accuracy: 0.9497\n",
      "Epoch 8 | Val Loss: 0.1692, Accuracy: 0.9497\n",
      "Epoch 9 | Val Loss: 0.1695, Accuracy: 0.9509\n",
      "Epoch 10 | Val Loss: 0.1685, Accuracy: 0.9508\n"
     ]
    }
   ],
   "source": [
    "model = RealSimpleNN()\n",
    "optimizer = optim.Adam(model.parameters(), lr=0.01)\n",
    "scheduler = optim.lr_scheduler.StepLR(optimizer, step_size=3, gamma=0.1)\n",
    "\n",
    "train_lr(model, train_loader, val_loader, optimizer, scheduler)"
   ]
  },
  {
   "cell_type": "markdown",
   "id": "5e003e28",
   "metadata": {},
   "source": [
    "### 조기 종료"
   ]
  },
  {
   "cell_type": "code",
   "execution_count": 16,
   "id": "7405c4ec",
   "metadata": {},
   "outputs": [],
   "source": [
    "def train_es(model, train_loader, val_loader, optimizer, epochs=50, early_stopping=None):\n",
    "    criterion = nn.CrossEntropyLoss()\n",
    "    train_losses = []\n",
    "    val_losses = []\n",
    "\n",
    "    for epoch in range(epochs):\n",
    "        model.train()\n",
    "        train_loss = 0\n",
    "        for images, labels in train_loader:\n",
    "            images = images.view(images.size(0), -1)\n",
    "            optimizer.zero_grad()\n",
    "            outputs = model(images)\n",
    "            loss = criterion(outputs, labels)\n",
    "            loss.backward()\n",
    "            optimizer.step()\n",
    "            train_loss += loss.item()\n",
    "        train_loss /= len(train_loader)\n",
    "        train_losses.append(train_loss)\n",
    "\n",
    "        model.eval()\n",
    "        val_loss = 0\n",
    "        correct = 0\n",
    "        with torch.no_grad():\n",
    "            for images, labels in val_loader:\n",
    "                images = images.view(images.size(0), -1)\n",
    "                outputs = model(images)\n",
    "                loss = criterion(outputs, labels)\n",
    "                val_loss += loss.item()\n",
    "                preds = outputs.argmax(dim=1)\n",
    "                correct += (preds == labels).sum().item()\n",
    "        val_loss /= len(val_loader)\n",
    "        val_losses.append(val_loss)\n",
    "        accuracy = correct / len(val_data)\n",
    "\n",
    "        print(f'Epoch {epoch + 1} | Val Loss: {val_loss:.4f}, Accuracy: {accuracy:.4f}')\n",
    "\n",
    "        if early_stopping and early_stopping(val_loss):\n",
    "            print(f'조기 종료 epoch {epoch + 1}')\n",
    "            break\n",
    "\n",
    "    return train_losses, val_losses    "
   ]
  },
  {
   "cell_type": "code",
   "execution_count": 17,
   "id": "cbb7b1ea",
   "metadata": {},
   "outputs": [],
   "source": [
    "class EarlyStopping:\n",
    "    def __init__(self, patience=5, min_delta=0.001):\n",
    "        self.patience = patience\n",
    "        self.min_delta = min_delta\n",
    "        self.best_loss = float('inf')\n",
    "        self.counter = 0\n",
    "\n",
    "    def __call__(self, val_loss):\n",
    "        if val_loss < self.best_loss - self.min_delta:\n",
    "            self.best_loss = val_loss\n",
    "            self.counter = 0\n",
    "        else:\n",
    "            self.counter += 1\n",
    "\n",
    "        return self.counter >= self.patience"
   ]
  },
  {
   "cell_type": "code",
   "execution_count": 18,
   "id": "5cb7c976",
   "metadata": {},
   "outputs": [
    {
     "name": "stdout",
     "output_type": "stream",
     "text": [
      "Epoch 1 | Val Loss: 0.3091, Accuracy: 0.9066\n",
      "Epoch 2 | Val Loss: 0.2394, Accuracy: 0.9297\n",
      "Epoch 3 | Val Loss: 0.2626, Accuracy: 0.9292\n",
      "Epoch 4 | Val Loss: 0.2310, Accuracy: 0.9383\n",
      "Epoch 5 | Val Loss: 0.2832, Accuracy: 0.9194\n",
      "Epoch 6 | Val Loss: 0.2210, Accuracy: 0.9424\n",
      "Epoch 7 | Val Loss: 0.2684, Accuracy: 0.9337\n",
      "Epoch 8 | Val Loss: 0.2112, Accuracy: 0.9454\n",
      "Epoch 9 | Val Loss: 0.2583, Accuracy: 0.9358\n",
      "Epoch 10 | Val Loss: 0.2532, Accuracy: 0.9403\n",
      "Epoch 11 | Val Loss: 0.2269, Accuracy: 0.9461\n",
      "Epoch 12 | Val Loss: 0.2408, Accuracy: 0.9404\n",
      "Epoch 13 | Val Loss: 0.2212, Accuracy: 0.9470\n",
      "Epoch 14 | Val Loss: 0.2781, Accuracy: 0.9355\n",
      "Epoch 15 | Val Loss: 0.2468, Accuracy: 0.9445\n",
      "Epoch 16 | Val Loss: 0.2641, Accuracy: 0.9352\n",
      "Epoch 17 | Val Loss: 0.2221, Accuracy: 0.9459\n",
      "Epoch 18 | Val Loss: 0.2393, Accuracy: 0.9447\n",
      "Epoch 19 | Val Loss: 0.2583, Accuracy: 0.9361\n",
      "Epoch 20 | Val Loss: 0.2310, Accuracy: 0.9442\n",
      "Epoch 21 | Val Loss: 0.2695, Accuracy: 0.9374\n",
      "Epoch 22 | Val Loss: 0.2450, Accuracy: 0.9423\n",
      "Epoch 23 | Val Loss: 0.2832, Accuracy: 0.9397\n",
      "Epoch 24 | Val Loss: 0.2245, Accuracy: 0.9494\n",
      "Epoch 25 | Val Loss: 0.2355, Accuracy: 0.9470\n",
      "Epoch 26 | Val Loss: 0.2450, Accuracy: 0.9481\n",
      "Epoch 27 | Val Loss: 0.2648, Accuracy: 0.9448\n",
      "Epoch 28 | Val Loss: 0.2362, Accuracy: 0.9507\n",
      "Epoch 29 | Val Loss: 0.2422, Accuracy: 0.9503\n",
      "Epoch 30 | Val Loss: 0.2457, Accuracy: 0.9473\n",
      "Epoch 31 | Val Loss: 0.2415, Accuracy: 0.9457\n",
      "Epoch 32 | Val Loss: 0.2411, Accuracy: 0.9490\n",
      "Epoch 33 | Val Loss: 0.2544, Accuracy: 0.9418\n",
      "Epoch 34 | Val Loss: 0.2745, Accuracy: 0.9356\n",
      "Epoch 35 | Val Loss: 0.2352, Accuracy: 0.9477\n",
      "Epoch 36 | Val Loss: 0.2721, Accuracy: 0.9422\n",
      "Epoch 37 | Val Loss: 0.2751, Accuracy: 0.9463\n",
      "Epoch 38 | Val Loss: 0.2367, Accuracy: 0.9518\n",
      "Epoch 39 | Val Loss: 0.2524, Accuracy: 0.9463\n",
      "Epoch 40 | Val Loss: 0.2831, Accuracy: 0.9453\n",
      "Epoch 41 | Val Loss: 0.2508, Accuracy: 0.9462\n",
      "Epoch 42 | Val Loss: 0.3151, Accuracy: 0.9452\n",
      "Epoch 43 | Val Loss: 0.2877, Accuracy: 0.9457\n",
      "Epoch 44 | Val Loss: 0.2974, Accuracy: 0.9379\n",
      "Epoch 45 | Val Loss: 0.2873, Accuracy: 0.9467\n",
      "Epoch 46 | Val Loss: 0.2537, Accuracy: 0.9503\n",
      "Epoch 47 | Val Loss: 0.3147, Accuracy: 0.9353\n",
      "Epoch 48 | Val Loss: 0.2815, Accuracy: 0.9474\n",
      "Epoch 49 | Val Loss: 0.2802, Accuracy: 0.9441\n",
      "Epoch 50 | Val Loss: 0.2957, Accuracy: 0.9420\n",
      "Epoch 1 | Val Loss: 0.2899, Accuracy: 0.9157\n",
      "Epoch 2 | Val Loss: 0.2417, Accuracy: 0.9327\n",
      "Epoch 3 | Val Loss: 0.2610, Accuracy: 0.9291\n",
      "Epoch 4 | Val Loss: 0.2431, Accuracy: 0.9324\n",
      "Epoch 5 | Val Loss: 0.2360, Accuracy: 0.9376\n",
      "Epoch 6 | Val Loss: 0.2327, Accuracy: 0.9454\n",
      "Epoch 7 | Val Loss: 0.2371, Accuracy: 0.9414\n",
      "Epoch 8 | Val Loss: 0.2738, Accuracy: 0.9316\n",
      "Epoch 9 | Val Loss: 0.2405, Accuracy: 0.9347\n",
      "Epoch 10 | Val Loss: 0.2505, Accuracy: 0.9338\n",
      "Epoch 11 | Val Loss: 0.2302, Accuracy: 0.9410\n",
      "Epoch 12 | Val Loss: 0.2551, Accuracy: 0.9380\n",
      "Epoch 13 | Val Loss: 0.2018, Accuracy: 0.9523\n",
      "Epoch 14 | Val Loss: 0.2170, Accuracy: 0.9432\n",
      "Epoch 15 | Val Loss: 0.2094, Accuracy: 0.9498\n",
      "Epoch 16 | Val Loss: 0.2908, Accuracy: 0.9334\n",
      "Epoch 17 | Val Loss: 0.2786, Accuracy: 0.9366\n",
      "Epoch 18 | Val Loss: 0.2723, Accuracy: 0.9329\n",
      "조기 종료 epoch 18\n"
     ]
    }
   ],
   "source": [
    "model_no_es = RealSimpleNN()\n",
    "optim_no_es = optim.Adam(model_no_es.parameters(), lr=0.01)\n",
    "train_losses, val_losses = train_es(model_no_es, train_loader, val_loader, \n",
    "                                    optim_no_es)\n",
    "\n",
    "model_es = RealSimpleNN()\n",
    "optim_es = optim.Adam(model_es.parameters(), lr=0.01)\n",
    "early_stopping = EarlyStopping(patience=5)\n",
    "train_es_losses, val_es_losses = train_es(model_es, train_loader, val_loader, \n",
    "                                          optim_es, early_stopping=early_stopping)"
   ]
  },
  {
   "cell_type": "code",
   "execution_count": 22,
   "id": "2693ae1e",
   "metadata": {},
   "outputs": [
    {
     "data": {
      "image/png": "[encoded data removed]",
      "text/plain": [
       "<Figure size 1000x400 with 1 Axes>"
      ]
     },
     "metadata": {},
     "output_type": "display_data"
    }
   ],
   "source": [
    "import matplotlib.pyplot as plt\n",
    "\n",
    "plt.figure(figsize=(10,4))\n",
    "plt.plot(train_losses, label='Train Loss (All epoch)', linestyle='dashed')\n",
    "plt.plot(val_losses, label='Valid Loss (All epoch)')\n",
    "plt.plot(train_es_losses, label='Train Loss (Early Stopping)', linestyle='dashed')\n",
    "plt.plot(val_es_losses, label='Valid Loss (Early Stopping)')\n",
    "\n",
    "plt.xlabel('Epoch')\n",
    "plt.ylabel('Loss')\n",
    "plt.legend()\n",
    "plt.show()"
   ]
  },
  {
   "cell_type": "markdown",
   "id": "f0c27731",
   "metadata": {},
   "source": [
    "### L2 적용"
   ]
  },
  {
   "cell_type": "code",
   "execution_count": 26,
   "id": "18d07b8b",
   "metadata": {},
   "outputs": [],
   "source": [
    "def train_reg(model, train_loader, val_loader, optimizer, epochs=10):\n",
    "    criterion = nn.CrossEntropyLoss()\n",
    "    train_losses = []\n",
    "    val_losses = []\n",
    "    weight_norms = []\n",
    "\n",
    "    for epoch in range(epochs):\n",
    "        model.train()\n",
    "        train_loss = 0\n",
    "        for images, labels in train_loader:\n",
    "            images = images.view(images.size(0), -1)\n",
    "            optimizer.zero_grad()\n",
    "            outputs = model(images)\n",
    "            loss = criterion(outputs, labels)\n",
    "            loss.backward()\n",
    "            optimizer.step()\n",
    "            train_loss += loss.item()\n",
    "        train_loss /= len(train_loader)\n",
    "        train_losses.append(train_loss)\n",
    "\n",
    "        model.eval()\n",
    "        val_loss = 0\n",
    "        correct = 0\n",
    "        with torch.no_grad():\n",
    "            for images, labels in val_loader:\n",
    "                images = images.view(images.size(0), -1)\n",
    "                outputs = model(images)\n",
    "                loss = criterion(outputs, labels)\n",
    "                val_loss += loss.item()\n",
    "                preds = outputs.argmax(dim=1)\n",
    "                correct += (preds == labels).sum().item()\n",
    "        val_loss /= len(val_loader)\n",
    "        val_losses.append(val_loss)\n",
    "        accuracy = correct / len(val_data)\n",
    "\n",
    "        print(f'Epoch {epoch + 1} | Val Loss: {val_loss:.4f}, Accuracy: {accuracy:.4f}')\n",
    "\n",
    "        weight_norm = sum(torch.norm(p).item() for p in model.parameters())\n",
    "        weight_norms.append(weight_norm)\n",
    "\n",
    "    return train_losses, val_losses, weight_norms"
   ]
  },
  {
   "cell_type": "code",
   "execution_count": 28,
   "id": "59cd4fa7",
   "metadata": {},
   "outputs": [
    {
     "name": "stdout",
     "output_type": "stream",
     "text": [
      "Epoch 1 | Val Loss: 0.2617, Accuracy: 0.9197\n",
      "Epoch 2 | Val Loss: 0.2026, Accuracy: 0.9367\n",
      "Epoch 3 | Val Loss: 0.1466, Accuracy: 0.9553\n",
      "Epoch 4 | Val Loss: 0.1479, Accuracy: 0.9533\n",
      "Epoch 5 | Val Loss: 0.1448, Accuracy: 0.9560\n",
      "Epoch 6 | Val Loss: 0.1135, Accuracy: 0.9650\n",
      "Epoch 7 | Val Loss: 0.1079, Accuracy: 0.9679\n",
      "Epoch 8 | Val Loss: 0.1154, Accuracy: 0.9665\n",
      "Epoch 9 | Val Loss: 0.1078, Accuracy: 0.9666\n",
      "Epoch 10 | Val Loss: 0.0943, Accuracy: 0.9733\n",
      "Epoch 1 | Val Loss: 0.3134, Accuracy: 0.9052\n",
      "Epoch 2 | Val Loss: 0.2635, Accuracy: 0.9234\n",
      "Epoch 3 | Val Loss: 0.2592, Accuracy: 0.9236\n",
      "Epoch 4 | Val Loss: 0.2152, Accuracy: 0.9398\n",
      "Epoch 5 | Val Loss: 0.2072, Accuracy: 0.9437\n",
      "Epoch 6 | Val Loss: 0.1950, Accuracy: 0.9476\n",
      "Epoch 7 | Val Loss: 0.2179, Accuracy: 0.9349\n",
      "Epoch 8 | Val Loss: 0.1919, Accuracy: 0.9464\n",
      "Epoch 9 | Val Loss: 0.2129, Accuracy: 0.9440\n",
      "Epoch 10 | Val Loss: 0.1933, Accuracy: 0.9462\n"
     ]
    }
   ],
   "source": [
    "model_no_reg = RealSimpleNN()\n",
    "optim_no_reg = optim.SGD(model_no_reg.parameters(), lr=0.01, weight_decay=0.0, momentum=0.9)\n",
    "train_losses, val_losses, weight_norms = \\\n",
    "    train_reg(model_no_reg, train_loader, val_loader, optim_no_reg)\n",
    "    \n",
    "model_reg = RealSimpleNN()\n",
    "optim_reg = optim.SGD(model_reg.parameters(), lr=0.01, weight_decay=0.01, momentum=0.9)\n",
    "train_reg_losses, val_reg_losses, weight_norms_reg = \\\n",
    "    train_reg(model_reg, train_loader, val_loader, optim_reg)"
   ]
  },
  {
   "cell_type": "code",
   "execution_count": null,
   "id": "c231292d",
   "metadata": {},
   "outputs": [],
   "source": [
    "plt.figure(figsize=(12,5))\n",
    "\n",
    "plt.subplot(1,2,1)\n",
    "plt.plot(train_losses, label='Train Loss (No reg)', linestyle='dashed')\n",
    "plt.plot(val_losses, label='Valid Loss (No reg)')\n",
    "plt.plot(train_reg_losses, label='Train Loss (L2 Reg)', linestyle='dashed')\n",
    "plt.plot(val_reg_losses, label='Val Loss (L2 Reg)')\n",
    "plt.xlabel('Epoch')\n",
    "plt.ylabel('Loss')\n",
    "plt.legend()\n",
    "\n",
    "plt.subplot(1,2,1)\n",
    "plt.plot(weight_norms, label='Weight Norm (No reg)')\n",
    "plt.plot(weight_norms_reg, label='Weight Norm (L2 reg)')\n",
    "plt.xlabel('Epoch')\n",
    "plt.ylabel('Weight Norm')\n",
    "plt.legend()\n"
   ]
  }
 ],
 "metadata": {
  "kernelspec": {
   "display_name": "torch_env",
   "language": "python",
   "name": "python3"
  },
  "language_info": {
   "codemirror_mode": {
    "name": "ipython",
    "version": 3
   },
   "file_extension": ".py",
   "mimetype": "text/x-python",
   "name": "python",
   "nbconvert_exporter": "python",
   "pygments_lexer": "ipython3",
   "version": "3.12.11"
  }
 },
 "nbformat": 4,
 "nbformat_minor": 5
}
